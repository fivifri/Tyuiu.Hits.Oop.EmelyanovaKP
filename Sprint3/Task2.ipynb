{
 "cells": [
  {
   "cell_type": "markdown",
   "metadata": {},
   "source": [
    "<h1 style=\"color:DodgerBlue\">Generic классы в C#</h1>\n"
   ]
  },
  {
   "cell_type": "markdown",
   "metadata": {},
   "source": [
    "Генерические классы в C# представляют собой шаблон класса, который может работать с различными типами данных без потери производительности. Они позволяют создавать компоненты, которые могут быть безопасно повторно использованы в различных контекстах, обеспечивая при этом строгую типизацию и избегая необходимости приведения типов.\n",
    "\n",
    "#### Основные преимущества генерических классов:\n",
    "\n",
    "1. **Безопасность типов**: Генерические классы обеспечивают проверку типов на этапе компиляции, что помогает предотвратить ошибки во время выполнения.\n",
    "2. **Универсальность**: Генерические классы могут работать с различными типами данных, делая их очень гибкими и универсальными.\n",
    "3. **Производительность**: Генерические классы не приводят к значительной потере производительности, поскольку информация о типе хранится вместе с объектом.\n",
    "\n",
    "#### Пример с классами `Vehicle`, `Car` и `Motorcycle`\n",
    "\n",
    "Давайте рассмотрим пример генерического класса `VehicleCollection<T>`, который может хранить коллекцию объектов типа `T`, где `T` может быть любой строкой, например, `Vehicle`, `Car` или `Motorcycle`.\n",
    "\n",
    "```csharp\n",
    "using System;\n",
    "using System.Collections.Generic;\n",
    "\n",
    "// Определение базового класса Vehicle\n",
    "public class Vehicle\n",
    "{\n",
    "    public virtual void Drive()\n",
    "    {\n",
    "        Console.WriteLine(\"Транспортное средство находится в движении.\");\n",
    "    }\n",
    "}\n",
    "\n",
    "// Определение производного класса Car\n",
    "public class Car : Vehicle\n",
    "{\n",
    "    public override void Drive()\n",
    "    {\n",
    "        Console.WriteLine(\"Машина едет.\");\n",
    "    }\n",
    "}\n",
    "\n",
    "// Определение производного класса Motorcycle\n",
    "public class Motorcycle : Vehicle\n",
    "{\n",
    "    public override void Drive()\n",
    "    {\n",
    "        Console.WriteLine(\"Мотоцикл едет.\");\n",
    "    }\n",
    "}\n",
    "\n",
    "// Определение генерического класса VehicleCollection<T>\n",
    "public class VehicleCollection<T> where T : Vehicle\n",
    "{\n",
    "    private List<T> _vehicles = new List<T>();\n",
    "\n",
    "    public void Add(T vehicle)\n",
    "    {\n",
    "        _vehicles.Add(vehicle);\n",
    "    }\n",
    "\n",
    "    public void Remove(T vehicle)\n",
    "    {\n",
    "        _vehicles.Remove(vehicle);\n",
    "    }\n",
    "\n",
    "    public void DisplayVehicles()\n",
    "    {\n",
    "        foreach (var vehicle in _vehicles)\n",
    "        {\n",
    "            vehicle.Drive(); // Вызов метода Drive() для каждого транспортного средства\n",
    "        }\n",
    "    }\n",
    "}\n",
    "\n",
    "\n",
    "VehicleCollection<Car> cars = new VehicleCollection<Car>();\n",
    "cars.Add(new Car());\n",
    "cars.Add(new Motorcycle()); // Это возможно благодаря ограничению \"where T : Vehicle\"\n",
    "\n",
    "cars.DisplayVehicles(); // Выводит: \"Машина едет.\" и \"Мотоцикл едет.\"\n",
    "\n",
    "\n",
    "```\n",
    "\n",
    "В этом примере `VehicleCollection<T>` является генерическим классом, который может хранить коллекцию объектов типа `T`, где `T` должен быть подклассом `Vehicle`. Это позволяет создавать коллекции автомобилей, мотоциклов и других видов транспортных средств, обеспечивая при этом строгую типизацию и безопасность типов.\n",
    "\n",
    "### Заключение\n",
    "\n",
    "Генерические классы в C# предоставляют мощный и гибкий способ создания компонентов, которые могут работать с различными типами данных, обеспечивая при этом строгую типизацию и безопасность типов. Это делает их идеальным выбором для многих задач, требующих повторного использования кода с высокой степенью абстракции."
   ]
  },
  {
   "cell_type": "markdown",
   "metadata": {},
   "source": [
    "<h4 style=\"color:DodgerBlue\">Для проверки напишите пример кода на основе классов Vehicle, Car и Motorcycle ниже в блоке:</h4>\n",
    "\n",
    "----"
   ]
  },
  {
   "cell_type": "code",
   "execution_count": null,
   "metadata": {
    "dotnet_interactive": {
     "language": "csharp"
    },
    "polyglot_notebook": {
     "kernelName": "csharp"
    }
   },
   "outputs": [],
   "source": []
  },
  {
   "cell_type": "markdown",
   "metadata": {},
   "source": [
    "<h4 style=\"color:Red\">Задание:</h4>\n",
    "\n",
    "----\n",
    "\n",
    "Ниже в блоке по примеру создайте базовый класс Animal и производные классы (3-4 например Dog, Cat, Bird и так далее) реализуйте структуру и объявление класса, включая свойства, геттеры и сеттеры, а также с пременением Generic классов."
   ]
  },
  {
   "cell_type": "code",
   "execution_count": null,
   "metadata": {
    "dotnet_interactive": {
     "language": "csharp"
    },
    "polyglot_notebook": {
     "kernelName": "csharp"
    }
   },
   "outputs": [],
   "source": [
    "public class Animal {\n",
    "  public string Name { get; set; }\n",
    "\n",
    "  public Animal(string name) {Name = name;}\n",
    "\n",
    "  public virtual void Hello(string name) {\n",
    "    Console.WriteLine($\"Hello, {name}! I'm {Name}.\");\n",
    "  }\n",
    "\n",
    "  public void Smile(string name) {\n",
    "    Console.WriteLine($\"Smile at me, {name} :D\");\n",
    "  }\n",
    "}\n",
    "\n",
    "class Cat : Animal {\n",
    "  public Cat(string name) : base(name) {}\n",
    "\n",
    "  public override void Hello(string name) {\n",
    "    Console.WriteLine($\"Hello, {name}! I'm {Name} cat.\");\n",
    "  }\n",
    "\n",
    "  public void Smile(int n) {\n",
    "    Console.WriteLine(String.Concat(Enumerable.Repeat(\":D \", n)));\n",
    "  }\n",
    "}\n",
    "\n",
    "class Capybara : Animal {\n",
    "  public Capybara(string name) : base(name) {}\n",
    "\n",
    "  public override void Hello(string name) {\n",
    "    Console.WriteLine($\"Hello, {name}! I'm {Name} capybara. I wants to be friends with you :3\");\n",
    "  }\n",
    "\n",
    "  public void Smile(string name, int n) {\n",
    "    for (int i = 0; i < n; ++i) {\n",
    "      base.Smile(name);\n",
    "    }\n",
    "  }\n",
    "}\n",
    "\n",
    "public class AnimalCollection<T> where T : Animal {\n",
    "  private List<T> _animals = new List<T>();\n",
    "\n",
    "  public void AddAnimal(T animal)\n",
    "  {\n",
    "    _animals.Add(animal);\n",
    "  }\n",
    "\n",
    "  public void RemoveAnimalByName(string name)\n",
    "  {\n",
    "    _animals.Remove(_animals.Single(animal => animal.Name == name));\n",
    "  }\n",
    "\n",
    "  public void PrintNames() {\n",
    "    foreach (var animal in _animals)\n",
    "    {\n",
    "      Console.WriteLine(animal.Name);\n",
    "    }\n",
    "  }\n",
    "}"
   ]
  },
  {
   "cell_type": "code",
   "execution_count": null,
   "metadata": {},
   "outputs": [
    {
     "name": "stdout",
     "output_type": "stream",
     "text": [
      "Sakura\n",
      "Emilia\n",
      "James\n",
      "\n",
      "Sakura\n",
      "James\n"
     ]
    }
   ],
   "source": [
    "AnimalCollection<Cat> cats = new AnimalCollection<Cat>();\n",
    "cats.AddAnimal(new Cat(\"Sakura\"));\n",
    "cats.AddAnimal(new Cat(\"Emilia\"));\n",
    "cats.AddAnimal(new Cat(\"James\"));\n",
    "cats.PrintNames();\n",
    "Console.WriteLine();\n",
    "cats.RemoveAnimalByName(\"Emilia\");\n",
    "cats.PrintNames();"
   ]
  },
  {
   "cell_type": "code",
   "execution_count": null,
   "metadata": {},
   "outputs": [],
   "source": []
  }
 ],
 "metadata": {
  "kernelspec": {
   "display_name": ".NET (C#)",
   "language": "C#",
   "name": ".net-csharp"
  },
  "polyglot_notebook": {
   "kernelInfo": {
    "defaultKernelName": "csharp",
    "items": [
     {
      "aliases": [],
      "languageName": "csharp",
      "name": "csharp"
     }
    ]
   }
  }
 },
 "nbformat": 4,
 "nbformat_minor": 2
}
