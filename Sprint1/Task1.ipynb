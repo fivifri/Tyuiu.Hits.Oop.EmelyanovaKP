{
 "cells": [
  {
   "cell_type": "markdown",
   "metadata": {},
   "source": [
    "<h1 style=\"color:DodgerBlue\">Структура и объявление класса, через: свойства, геттеры и сеттеры</h1>"
   ]
  },
  {
   "cell_type": "markdown",
   "metadata": {},
   "source": [
    "### Структура и Объявление Класса в C#\n",
    "\n",
    "В C#, класс объявляется с использованием ключевого слова `class`, за которым следует имя класса. Класс может содержать поля (данные), свойства (способ доступа к данным), методы (функциональность) и события. \n",
    "\n",
    "#### Свойства\n",
    "\n",
    "Свойства в C# используются для инкапсуляции данных. Они предоставляют гибкий механизм для чтения, записи или вычисления значений приватных полей. Свойства могут иметь два акцессора: `get` (геттер) для чтения значения и `set` (сеттер) для его изменения.\n",
    "\n",
    "#### Геттеры и Сеттеры\n",
    "\n",
    "Геттеры и сеттеры являются частью свойств класса в C#. Геттер (`get`) используется для возврата значения свойства, а сеттер (`set`) — для установки нового значения. Сеттер может включать логику валидации или другие операции перед изменением значения поля.\n",
    "\n",
    "### Пример Классов Vehicle и Car\n",
    "\n",
    "Давайте рассмотрим примеры классов `Vehicle` и `Car`, чтобы проиллюстрировать использование свойств, геттеров и сеттеров, а также разницу между статическими и обычными атрибутами и методами.\n",
    "\n",
    "#### Класс Vehicle\n",
    "\n",
    "```csharp\n",
    "public class Vehicle\n",
    "{\n",
    "    private string _color;\n",
    "    private int _speed;\n",
    "\n",
    "    // Свойство Color с геттером и сеттером\n",
    "    public string Color\n",
    "    {\n",
    "        get { return _color; }\n",
    "        set { _color = value; }\n",
    "    }\n",
    "\n",
    "    // Свойство Speed с геттером и сеттером\n",
    "    public int Speed\n",
    "    {\n",
    "        get { return _speed; }\n",
    "        set\n",
    "        {\n",
    "            if (value >= 0)\n",
    "                _speed = value;\n",
    "            else\n",
    "                throw new ArgumentOutOfRangeException(\"Скорость не может быть отрицательной!\");\n",
    "        }\n",
    "    }\n",
    "\n",
    "    // Статический атрибут\n",
    "    public static int TotalVehicles { get; private set; } = 0;\n",
    "\n",
    "    // Конструктор\n",
    "    public Vehicle()\n",
    "    {\n",
    "        TotalVehicles++;\n",
    "    }\n",
    "\n",
    "    // Обычный метод\n",
    "    public void Accelerate(int delta)\n",
    "    {\n",
    "        Speed += delta;\n",
    "    }\n",
    "\n",
    "    // Статический метод\n",
    "    public static void DisplayTotalVehicles()\n",
    "    {\n",
    "        Console.WriteLine($\"Общее количество транспортных средств: {TotalVehicles}\");\n",
    "    }\n",
    "}\n",
    "```\n",
    "\n",
    "#### Класс Car\n",
    "\n",
    "```csharp\n",
    "public class Car : Vehicle\n",
    "{\n",
    "    private int _fuelLevel;\n",
    "\n",
    "    // Свойство FuelLevel с геттером и сеттером\n",
    "    public int FuelLevel\n",
    "    {\n",
    "        get { return _fuelLevel; }\n",
    "        set { _fuelLevel = value; }\n",
    "    }\n",
    "\n",
    "    // Конструктор\n",
    "    public Car() : base()\n",
    "    {\n",
    "        FuelLevel = 100; // Задаем начальный уровень топлива\n",
    "    }\n",
    "\n",
    "    // Обычный метод\n",
    "    public void Refuel(int amount)\n",
    "    {\n",
    "        FuelLevel += amount;\n",
    "    }\n",
    "}\n",
    "```\n",
    "\n",
    "### Разница между Статическими и Обычными Атрибутами и Методами Класса\n",
    "\n",
    "- **Статические атрибуты и методы** принадлежат самому классу, а не его экземплярам. Они могут быть вызваны без создания объекта класса. В примере выше `TotalVehicles` является статическим атрибутом, а `DisplayTotalVehicles()` — статическим методом класса `Vehicle`.\n",
    "- **Обычные атрибуты и методы** принадлежат экземплярам класса и могут иметь разные значения для разных объектов. В примере выше `_color`, `_speed` и `_fuelLevel` являются обычными атрибутами, а методы `Accelerate()` и `Refuel()` — обычными методами.\n",
    "\n",
    "### Заключение\n",
    "\n",
    "В этом таске мы рассмотрели структуру и объявление класса в C#, включая свойства, геттеры и сеттеры, а также разницу между статическими и обычными атрибутами и методами класса на примерах классов `Vehicle` и `Car`. Эти концепции являются основой для создания объектно-ориентированных программ на C#."
   ]
  },
  {
   "cell_type": "markdown",
   "metadata": {},
   "source": [
    "<h4 style=\"color:DodgerBlue\">Для проверки напишите пример кода на основе классов Car и Vehicle ниже в блоке:</h4>\n",
    "\n",
    "----"
   ]
  },
  {
   "cell_type": "code",
   "execution_count": null,
   "metadata": {
    "dotnet_interactive": {
     "language": "csharp"
    },
    "polyglot_notebook": {
     "kernelName": "csharp"
    }
   },
   "outputs": [],
   "source": []
  },
  {
   "cell_type": "markdown",
   "metadata": {},
   "source": [
    "<h4 style=\"color:Red\">Задание:</h4>\n",
    "\n",
    "----\n",
    "\n",
    "Ниже в блоке по примеру создайте базовый класс Animal и производные классы (2-3 например Dog, Cat и так далее) реализуйте структуру и объявление класса, включая свойства, геттеры и сеттеры, а также статические и обычными атрибуты и метода класса"
   ]
  },
  {
   "cell_type": "code",
   "execution_count": 1,
   "metadata": {
    "dotnet_interactive": {
     "language": "csharp"
    },
    "polyglot_notebook": {
     "kernelName": "csharp"
    }
   },
   "outputs": [],
   "source": [
    "public class Animal\n",
    "{\n",
    "  private int _age;\n",
    "  private string _name;\n",
    "  public static int TotalAnimals { get; private set; } = 0;\n",
    "\n",
    "  public string Name\n",
    "  {\n",
    "    get { return _name; }\n",
    "    set { _name = value; }\n",
    "  }\n",
    "  \n",
    "  public int Age\n",
    "  {\n",
    "    get { return _age; }\n",
    "    set\n",
    "    {\n",
    "      if (value >= 0)\n",
    "        _age = value;\n",
    "      else\n",
    "        throw new ArgumentOutOfRangeException(\"Age can't be negative\");\n",
    "    }\n",
    "  }\n",
    "\n",
    "  public Animal()\n",
    "  {\n",
    "    ++TotalAnimals;\n",
    "  }\n",
    "\n",
    "  public void IncreaseAge(int delta)\n",
    "  {\n",
    "    Age += delta;\n",
    "  }\n",
    "\n",
    "  public static void DisplayTotalAnimals()\n",
    "  {\n",
    "    Console.WriteLine($\"Total number of animals: {TotalAnimals}\");\n",
    "  }\n",
    "}"
   ]
  },
  {
   "cell_type": "code",
   "execution_count": 13,
   "metadata": {
    "dotnet_interactive": {
     "language": "csharp"
    },
    "polyglot_notebook": {
     "kernelName": "csharp"
    }
   },
   "outputs": [],
   "source": [
    "public class Cat : Animal\n",
    "{\n",
    "  public int _stressLevel { get; private set; }\n",
    "\n",
    "  public Cat() : base()\n",
    "  {\n",
    "    _stressLevel = 0;\n",
    "  }\n",
    "\n",
    "  public void Touch()\n",
    "  {\n",
    "    _stressLevel += 100;\n",
    "  }\n",
    "\n",
    "  public void Sleep()\n",
    "  {\n",
    "    _stressLevel /= 2;\n",
    "  }\n",
    "\n",
    "  private void Reset() {\n",
    "    _stressLevel = 0;\n",
    "  }\n",
    "}"
   ]
  },
  {
   "cell_type": "code",
   "execution_count": 14,
   "metadata": {
    "dotnet_interactive": {
     "language": "csharp"
    },
    "polyglot_notebook": {
     "kernelName": "csharp"
    }
   },
   "outputs": [],
   "source": [
    "public class Capybara : Animal\n",
    "{\n",
    "  private string _mood;\n",
    "\n",
    "  public string Mood\n",
    "  {\n",
    "    get { return _mood; }\n",
    "    set { _mood = value; }\n",
    "  }\n",
    "\n",
    "  public Capybara() : base()\n",
    "  {\n",
    "    Mood = \"normal\";\n",
    "  }\n",
    "\n",
    "  public void Feed()\n",
    "  {\n",
    "    Mood = \"perfect\";\n",
    "  }\n",
    "\n",
    "  static public void PrintInfo() {\n",
    "    Console.WriteLine(\"A capybara is the largest rodent in the world, known for its semi-aquatic lifestyle and friendly nature.\");\n",
    "  }\n",
    "}"
   ]
  },
  {
   "cell_type": "code",
   "execution_count": 12,
   "metadata": {},
   "outputs": [],
   "source": []
  },
  {
   "cell_type": "code",
   "execution_count": null,
   "metadata": {},
   "outputs": [],
   "source": []
  }
 ],
 "metadata": {
  "kernelspec": {
   "display_name": ".NET (C#)",
   "language": "C#",
   "name": ".net-csharp"
  },
  "polyglot_notebook": {
   "kernelInfo": {
    "defaultKernelName": "csharp",
    "items": [
     {
      "aliases": [],
      "languageName": "csharp",
      "name": "csharp"
     }
    ]
   }
  }
 },
 "nbformat": 4,
 "nbformat_minor": 2
}
