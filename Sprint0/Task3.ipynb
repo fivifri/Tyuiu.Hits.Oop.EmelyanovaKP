{
 "cells": [
  {
   "cell_type": "markdown",
   "metadata": {},
   "source": [
    "<h1 style=\"color:DodgerBlue\">Индивидальный проект</h1>"
   ]
  },
  {
   "cell_type": "markdown",
   "metadata": {},
   "source": [
    "<h2 style=\"color:DodgerBlue\">Название проекта:</h2>\n",
    "\n",
    "----\n",
    "\n",
    "### Вариант задания 10\n"
   ]
  },
  {
   "cell_type": "markdown",
   "metadata": {},
   "source": [
    "<h2 style=\"color:DodgerBlue\">Описание проекта:</h2>\n",
    "\n",
    "----\n",
    "\n",
    "***Требования к базовому классу Invoice:***\n",
    "\n",
    "- Атрибуты:\n",
    "  - Номер фактуры (InvoiceNumber)\n",
    "  - Дата выдачи (IssueDate)\n",
    "  - Общая сумма (TotalAmount).\n",
    "\n",
    "- Методы:\n",
    "  - CalculateTotal(): метод для расчета общей суммы по фактуре.\n",
    "  - AddLine(LineItem lineItem): метод для добавления позиции в фактуру.\n",
    "  - RemoveLine(LineItem lineItem): метод для удаления позиции из фактуры.\n",
    "\n",
    "***Требования к производным классам:***\n",
    "\n",
    "- Товарная Фактура (GoodsInvoice): Должна содержать дополнительные\n",
    "атрибуты, такие как Дата поставки (SupplyDate). Метод AddLine() должен\n",
    "быть переопределен для добавления информации о дате поставки товара\n",
    "при добавлении позиции.\n",
    "\n",
    "- Услуговая Фактура (ServiceInvoice): Должна содержать дополнительные\n",
    "атрибуты, такие как Дата оказания услуги (ServiceDate).\n",
    "Метод RemoveLine() должен быть переопределен для добавления\n",
    "информации о причине аннулирования услуги при удалении позиции.\n",
    "\n",
    "- Комбинированная Фактура (CombinedInvoice) (если требуется третий класс):\n",
    "Должна содержать дополнительные атрибуты, такие как Наличие возврата\n",
    "(ReturnAllowed). Метод CalculateTotal() должен быть переопределен для\n",
    "учета возможного возврата товара или услуги при расчете общей суммы.\n"
   ]
  },
  {
   "cell_type": "markdown",
   "metadata": {},
   "source": [
    "<h2 style=\"color:DodgerBlue\">Реализация:</h2>\n",
    "\n",
    "----"
   ]
  },
  {
   "cell_type": "code",
   "execution_count": 2,
   "metadata": {
    "dotnet_interactive": {
     "language": "csharp"
    },
    "polyglot_notebook": {
     "kernelName": "csharp"
    }
   },
   "outputs": [],
   "source": [
    "public class LineItem {\n",
    "  public string Name { get; set; }\n",
    "  public double Price { get; set; }\n",
    "  public int Count { get; set; }\n",
    "\n",
    "  public LineItem(string name, double price, int count)\n",
    "  {\n",
    "    Name = name;\n",
    "    Price = price;\n",
    "    Count = count;\n",
    "  }\n",
    "\n",
    "  public double GetTotalPrice()\n",
    "  {\n",
    "    return Price * Count;\n",
    "  }\n",
    "}\n",
    "\n",
    "public class Invoice \n",
    "{\n",
    "  public int InvoiceNumber { get; set; }\n",
    "  public DateTime IssueDate { get; set; }\n",
    "  public double TotalAmount {get; private set; }\n",
    "  public List<LineItem> LineItems { get; set; }\n",
    "\n",
    "  public Invoice(int invoiceNumber, DateTime issueDate)\n",
    "  {\n",
    "    InvoiceNumber = invoiceNumber;\n",
    "    IssueDate = issueDate;\n",
    "    LineItems = new List<LineItem>();\n",
    "    TotalAmount = 0;\n",
    "  }\n",
    "\n",
    "  public Double CalculateTotal() {\n",
    "    Double total = 0;\n",
    "\n",
    "    foreach (LineItem item in LineItems) {\n",
    "      total += item.GetTotalPrice();\n",
    "    }\n",
    "\n",
    "    return total;\n",
    "  }\n",
    "\n",
    "  public virtual void AddLine(LineItem lineItem) {\n",
    "    LineItems.Add(lineItem);\n",
    "    TotalAmount = CalculateTotal();\n",
    "    Console.WriteLine($\"{lineItem.Name} added successfully\");\n",
    "  }\n",
    "\n",
    "  public virtual void RemoveLine(LineItem lineItem) {\n",
    "    LineItems.Remove(lineItem);\n",
    "    TotalAmount = CalculateTotal();\n",
    "    Console.WriteLine($\"{lineItem.Name} removed successfully\");\n",
    "  }\n",
    "}\n",
    "\n",
    "public class GoodsInvoice : Invoice\n",
    "{\n",
    "  public DateTime SupplyDate { get; set; }\n",
    "\n",
    "  public GoodsInvoice(int invoiceNumber, DateTime issueDate, DateTime supplyDate): base(invoiceNumber, issueDate)\n",
    "  {\n",
    "    SupplyDate = supplyDate;\n",
    "  }\n",
    "\n",
    "  public override void AddLine(LineItem lineItem)\n",
    "  {\n",
    "    base.AddLine(lineItem);\n",
    "    Console.WriteLine($\"Supply date: {SupplyDate}.\");\n",
    "  }\n",
    "}\n",
    "\n",
    "public class ServiceInvoice : Invoice\n",
    "{\n",
    "  public DateTime ServiceDate { get; set; }\n",
    "\n",
    "  public ServiceInvoice(int invoiceNumber, DateTime issueDate, DateTime serviceDate): base(invoiceNumber, issueDate)\n",
    "  {\n",
    "    ServiceDate = serviceDate;\n",
    "  }\n",
    "\n",
    "  public override void RemoveLine(LineItem lineItem)\n",
    "  {\n",
    "    base.RemoveLine(lineItem);\n",
    "    Console.WriteLine($\"Reason for removal: service no longer needed.\");\n",
    "  }\n",
    "}"
   ]
  },
  {
   "cell_type": "code",
   "execution_count": 20,
   "metadata": {
    "dotnet_interactive": {
     "language": "csharp"
    },
    "polyglot_notebook": {
     "kernelName": "csharp"
    }
   },
   "outputs": [
    {
     "name": "stdout",
     "output_type": "stream",
     "text": [
      "Count of Samsung galaxy s25 ultra: 10\n",
      "And now count of Samsung galaxy s25 ultra: 11\n",
      "\n",
      "Samsung galaxy s24 ultra price: 100000\n",
      "And now Samsung galaxy s24 ultra price: 98000\n",
      "\n",
      "Samsung galaxy s24 ultra\n",
      "Count: 5\n",
      "Price: 98000\n",
      "TotalPrice: 490000\n"
     ]
    }
   ],
   "source": [
    "// Test LineItem\n",
    "\n",
    "LineItem phone = new LineItem(\"Samsung galaxy s25 ultra\", 150000, 10);\n",
    "LineItem phone2 = new LineItem(\"Samsung galaxy s24 ultra\", 100000, 5);\n",
    "\n",
    "Console.WriteLine($\"Count of {phone.Name}: {phone.Count}\");\n",
    "phone.Count = 11;\n",
    "Console.WriteLine($\"And now count of {phone.Name}: {phone.Count}\\n\");\n",
    "\n",
    "Console.WriteLine($\"{phone2.Name} price: {phone2.Price}\");\n",
    "phone2.Price = 98000;\n",
    "Console.WriteLine($\"And now {phone2.Name} price: {phone2.Price}\\n\");\n",
    "\n",
    "Console.WriteLine($\"{phone2.Name}\\nCount: {phone2.Count}\\nPrice: {phone2.Price}\\nTotalPrice: {phone2.GetTotalPrice()}\");\n"
   ]
  },
  {
   "cell_type": "code",
   "execution_count": 26,
   "metadata": {
    "dotnet_interactive": {
     "language": "csharp"
    },
    "polyglot_notebook": {
     "kernelName": "csharp"
    }
   },
   "outputs": [
    {
     "name": "stdout",
     "output_type": "stream",
     "text": [
      "Total amount: 0\n",
      "\n",
      "Samsung galaxy s25 ultra added successfully\n",
      "Total amount after adding the first item: 1650000\n",
      "\n",
      "Samsung galaxy s24 ultra added successfully\n",
      "Total amount after adding the second item: 2140000\n",
      "\n",
      "Samsung galaxy s24 ultra removed successfully\n",
      "Total amount after deleting the second item: 1650000\n",
      "\n"
     ]
    }
   ],
   "source": [
    "// Test Invoice\n",
    "\n",
    "Invoice testInvoice = new Invoice(1, new DateTime(2024, 09, 12));\n",
    "\n",
    "Console.WriteLine($\"Total amount: {testInvoice.TotalAmount}\\n\");\n",
    "testInvoice.AddLine(phone);\n",
    "Console.WriteLine($\"Total amount after adding the first item: {testInvoice.TotalAmount}\\n\");\n",
    "testInvoice.AddLine(phone2);\n",
    "Console.WriteLine($\"Total amount after adding the second item: {testInvoice.TotalAmount}\\n\");\n",
    "testInvoice.RemoveLine(phone2);\n",
    "Console.WriteLine($\"Total amount after deleting the second item: {testInvoice.TotalAmount}\\n\");"
   ]
  },
  {
   "cell_type": "code",
   "execution_count": 23,
   "metadata": {
    "dotnet_interactive": {
     "language": "csharp"
    },
    "polyglot_notebook": {
     "kernelName": "csharp"
    }
   },
   "outputs": [
    {
     "name": "stdout",
     "output_type": "stream",
     "text": [
      "Total amount: 0\n",
      "\n",
      "Samsung galaxy s25 ultra added successfully\n",
      "Supply date: 8/15/2024 12:00:00 AM.\n",
      "Total amount after adding the item: 1650000\n",
      "\n",
      "Samsung galaxy s25 ultra removed successfully\n",
      "Total amount after deleting the item: 0\n",
      "\n"
     ]
    }
   ],
   "source": [
    "// Test GoodsInvoice\n",
    "\n",
    "GoodsInvoice testGoodsInvoice = new GoodsInvoice(1, new DateTime(2024, 09, 12), new DateTime(2024, 08, 15));\n",
    "\n",
    "Console.WriteLine($\"Total amount: {testGoodsInvoice.TotalAmount}\\n\");\n",
    "testGoodsInvoice.AddLine(phone);\n",
    "Console.WriteLine($\"Total amount after adding the item: {testGoodsInvoice.TotalAmount}\\n\");\n",
    "\n",
    "testGoodsInvoice.RemoveLine(phone);\n",
    "Console.WriteLine($\"Total amount after deleting the item: {testGoodsInvoice.TotalAmount}\\n\");"
   ]
  },
  {
   "cell_type": "code",
   "execution_count": 16,
   "metadata": {
    "dotnet_interactive": {
     "language": "csharp"
    },
    "polyglot_notebook": {
     "kernelName": "csharp"
    }
   },
   "outputs": [
    {
     "name": "stdout",
     "output_type": "stream",
     "text": [
      "Total amount: 0\n",
      "\n",
      "Cleaning added successfully\n",
      "Total amount after adding the item: 13000\n",
      "\n",
      "Cleaning removed successfully\n",
      "Reason for removal: service no longer needed.\n",
      "Total amount after deleting the item: 0\n",
      "\n"
     ]
    }
   ],
   "source": [
    "// Test ServiceInvoice\n",
    "\n",
    "LineItem testService = new LineItem(\"Cleaning\", 6500, 2);\n",
    "ServiceInvoice testServiceInvoice = new ServiceInvoice(1, new DateTime(2024, 09, 12), new DateTime(2023, 07, 15));\n",
    "\n",
    "Console.WriteLine($\"Total amount: {testServiceInvoice.TotalAmount}\\n\");\n",
    "testServiceInvoice.AddLine(testService);\n",
    "Console.WriteLine($\"Total amount after adding the item: {testServiceInvoice.TotalAmount}\\n\");\n",
    "\n",
    "testServiceInvoice.RemoveLine(testService);\n",
    "Console.WriteLine($\"Total amount after deleting the item: {testServiceInvoice.TotalAmount}\\n\");"
   ]
  },
  {
   "cell_type": "code",
   "execution_count": null,
   "metadata": {
    "dotnet_interactive": {
     "language": "csharp"
    },
    "polyglot_notebook": {
     "kernelName": "csharp"
    }
   },
   "outputs": [],
   "source": []
  }
 ],
 "metadata": {
  "kernelspec": {
   "display_name": ".NET (C#)",
   "language": "C#",
   "name": ".net-csharp"
  },
  "polyglot_notebook": {
   "kernelInfo": {
    "defaultKernelName": "csharp",
    "items": [
     {
      "aliases": [],
      "languageName": "csharp",
      "name": "csharp"
     }
    ]
   }
  }
 },
 "nbformat": 4,
 "nbformat_minor": 2
}
