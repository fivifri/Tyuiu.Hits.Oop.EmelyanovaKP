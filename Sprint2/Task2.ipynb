{
 "cells": [
  {
   "cell_type": "markdown",
   "metadata": {},
   "source": [
    "<h1 style=\"color:DodgerBlue\">Множественное наследование</h1>"
   ]
  },
  {
   "cell_type": "markdown",
   "metadata": {},
   "source": [
    "Множественное наследование — это концепция, при которой класс может наследовать свойства и методы сразу от нескольких базовых классов. \n",
    "\n",
    "Множественное наследование — это особенность некоторых языков программирования, которая позволяет классу наследовать свойства и методы от двух или более суперклассов. Несмотря на то, что множественное наследование может привести к увеличению гибкости и повторного использования кода, оно также может усложнить архитектуру программы и привести к проблемам, таким как \"проблема ромба\". Вот некоторые языки программирования, которые поддерживают множественное наследование:\n",
    "\n",
    "1. **C++**: Один из наиболее известных языков, поддерживающих множественное наследование. В C++, класс может наследовать свойства и методы от нескольких базовых классов, что позволяет создавать сложные иерархии наследования.\n",
    "\n",
    "2. **Python**: Поддерживает множественное наследование, что позволяет классу наследовать от нескольких базовых классов. Python использует алгоритм C3 для разрешения порядка методов при множественном наследовании, чтобы избежать неоднозначности.\n",
    "\n",
    "3. **Perl и Perl 6 (Raku)**: Оба языка поддерживают множественное наследование. В Perl это достигается через механизм \"исходных пакетов\" (source packages), а в Raku — через более явные средства.\n",
    "\n",
    "4. **Common Lisp (через CLOS)**: Common Lisp Object System (CLOS) поддерживает множественное наследование, позволяя объектам быть экземплярами нескольких классов одновременно.\n",
    "\n",
    "5. **Eiffel**: Язык программирования Eiffel также поддерживает множественное наследование, предлагая строгие типы и контрактное программирование.\n",
    "\n",
    "6. **Tcl**: Скриптовый язык Tcl поддерживает множественное наследование через систему объектов, введенную в Tcl 8.6.\n",
    "\n",
    "7. **Ada**: Язык программирования Ada поддерживает множественное наследование через механизм интерфейсов и классов.\n",
    "\n",
    "Множественное наследование может быть мощным инструментом для создания гибких и модульных систем, но его использование требует тщательного планирования и понимания потенциальных проблем, таких как \"проблема ромба\". \n",
    "\n",
    "\"Проблема ромба\" — это термин в объектно-ориентированном программировании, который описывает ситуацию, возникающую при множественном наследовании, когда один класс наследуется от двух или более базовых классов, которые сами по себе наследуются от общего базового класса. Это создает конфигурацию в форме ромба и может привести к неоднозначности и сложностям в определении порядка вызова методов или доступа к свойствам\n",
    "\n",
    "В некоторых языках, например в Java и C#, вместо прямой поддержки множественного наследования используются интерфейсы или другие механизмы для достижения подобного функционала.\n",
    "\n",
    "\n",
    "Давайте рассмотрим пример в C# с использованием классов `Vehicle`, `Car`, и `Motorcycle`, а также введем интерфейсы для демонстрации множественного наследования через интерфейсы.\n",
    "\n",
    "### Шаг 1: Определение интерфейсов\n",
    "\n",
    "Сначала определим два интерфейса, которые будут представлять различные аспекты транспортных средств.\n",
    "\n",
    "\n",
    "```csharp\n",
    "\n",
    "public interface IVehicle\n",
    "{\n",
    "    string Make { get; set; }\n",
    "    string Model { get; set; }\n",
    "    void DisplayInfo();\n",
    "}\n",
    "\n",
    "public interface IMotorized\n",
    "{\n",
    "    string EngineType { get; set; }\n",
    "}\n",
    "\n",
    "```\n",
    "\n",
    "### Шаг 2: Реализация интерфейсов в классах\n",
    "\n",
    "Теперь определим классы `Car` и `Motorcycle`, которые реализуют эти интерфейсы.\n",
    "\n",
    "#### Класс Car\n",
    "\n",
    "```csharp\n",
    "public class Car : IVehicle\n",
    "{\n",
    "    public string Make { get; set; }\n",
    "    public string Model { get; set; }\n",
    "    public int Doors { get; set; }\n",
    "\n",
    "    public Car(string make, string model, int doors)\n",
    "    {\n",
    "        Make = make;\n",
    "        Model = model;\n",
    "        Doors = doors;\n",
    "    }\n",
    "\n",
    "    public void DisplayInfo()\n",
    "    {\n",
    "        Console.WriteLine($\"Автомобиль: Производитель: {Make}, Модель: {Model}, Двери: {Doors}\");\n",
    "    }\n",
    "}\n",
    "```\n",
    "\n",
    "#### Класс Motorcycle\n",
    "\n",
    "```csharp\n",
    "public class Motorcycle : IVehicle, IMotorized\n",
    "{\n",
    "    public string Make { get; set; }\n",
    "    public string Model { get; set; }\n",
    "    public string EngineType { get; set; }\n",
    "\n",
    "    public Motorcycle(string make, string model, string engineType)\n",
    "    {\n",
    "        Make = make;\n",
    "        Model = model;\n",
    "        EngineType = engineType;\n",
    "    }\n",
    "\n",
    "    public void DisplayInfo()\n",
    "    {\n",
    "        Console.WriteLine($\"Мотоцикл: Производитель: {Make}, Модель: {Model}, Тип двигетеля: {EngineType}\");\n",
    "    }\n",
    "}\n",
    "```\n",
    "\n",
    "### Шаг 3: Использование классов\n",
    "\n",
    "Теперь мы можем создать экземпляры наших классов и использовать их.\n",
    "\n",
    "```csharp\n",
    "\n",
    "        Car myCar = new Car(\"Toyota\", \"Corolla\", 4);\n",
    "        myCar.DisplayInfo();\n",
    "\n",
    "        Motorcycle myMotorcycle = new Motorcycle(\"Honda\", \"CBR600RR\", \"Inline Four\");\n",
    "        myMotorcycle.DisplayInfo();\n",
    "```\n",
    "\n",
    "### Объяснение кода\n",
    "\n",
    "- **Интерфейсы `IVehicle` и `IMotorized`** определяют контракты для классов, которые хотят представлять транспортные средства или моторизированные объекты соответственно.\n",
    "- **Класс `Car`** реализует интерфейс `IVehicle`, предоставляя информацию о марке, модели и количестве дверей автомобиля.\n",
    "- **Класс `Motorcycle`** реализует оба интерфейса (`IVehicle` и `IMotorized`), что демонстрирует множественное наследование через интерфейсы в C#. Это позволяет мотоциклу иметь свойства как транспортного средства, так и моторизированного объекта.\n",
    "\n",
    "### Отличие множественного наследования от сложного\n",
    "\n",
    "- **Поддержка языком**: В C# непосредственное множественное наследование классов не поддерживается, но можно использовать интерфейсы для достижения подобного поведения.\n",
    "- **Гибкость**: Интерфейсы позволяют классам реализовывать множество контрактов, что обеспечивает большую гибкость в проектировании программ.\n",
    "- **Расширяемость**: Использование интерфейсов облегчает добавление новых функций и поведений без изменения существующего кода, поскольку новые интерфейсы могут быть реализованы существующими классами без их модификации.\n",
    "\n",
    "Таким образом, хотя C# не поддерживает множественное наследование напрямую для классов, использование интерфейсов предоставляет мощный механизм для реализации подобного поведения, обеспечивая гибкость и расширяемость приложений."
   ]
  },
  {
   "cell_type": "markdown",
   "metadata": {},
   "source": [
    "Множественное наследование в C# позволяет классу наследовать свойства и методы от нескольких базовых классов. Однако, стоит отметить, что прямое множественное наследование (когда класс наследуется от двух или более классов) не поддерживается в C#. Вместо этого, для достижения подобного поведения используется интерфейс или абстрактный класс как общий базовый класс, а затем реализация или наследование от других классов для расширения функциональности.\n",
    "\n",
    "Давайте рассмотрим пример с использованием абстрактного класса для демонстрации множественного наследования. Предположим, у нас есть абстрактный класс `Vehicle`, который представляет собой транспортное средство, и два интерфейса: `Car` и `Motorcycle`. Класс `Car` и `Motorcycle` будут реализовывать эти интерфейсы, предоставляя свою специфику.\n",
    "\n",
    "### Шаг 1: Определение абстрактного класса\n",
    "\n",
    "```csharp\n",
    "// Абстрактный класс Vehicle, представляющий транспортное средство\n",
    "public abstract class Vehicle\n",
    "{\n",
    "    // Свойство Speed для определения скорости транспортного средства\n",
    "    public int Speed { get; set; }\n",
    "\n",
    "    // Конструктор по умолчанию\n",
    "    protected Vehicle()\n",
    "    {\n",
    "        Speed = 0;\n",
    "    }\n",
    "\n",
    "    // Метод Move, который будет переопределен в производных классах\n",
    "    public virtual void Move()\n",
    "    {\n",
    "        Console.WriteLine(\"Транспортное средство движется.\");\n",
    "    }\n",
    "}\n",
    "```\n",
    "\n",
    "### Шаг 2: Определение интерфейсов\n",
    "\n",
    "```csharp\n",
    "// Интерфейс Car, определяющий специфику автомобиля\n",
    "public interface ICar\n",
    "{\n",
    "    void Honk(); // Метод для сигнала гона\n",
    "}\n",
    "\n",
    "// Интерфейс Motorcycle, определяющий специфику мотоцикла\n",
    "public interface IMotorcycle\n",
    "{\n",
    "    void Wheelie(); // Метод для выполнения трюка \"колесо\"\n",
    "}\n",
    "```\n",
    "\n",
    "### Шаг 3: Реализация классов\n",
    "\n",
    "Теперь мы можем создать классы `Car` и `Motorcycle`, которые реализуют интерфейсы `ICar` и `IMotorcycle` соответственно, и наследуются от `Vehicle`.\n",
    "\n",
    "```csharp\n",
    "// Класс Car, реализующий интерфейс ICar и наследующий от Vehicle\n",
    "public class Car : Vehicle, ICar\n",
    "{\n",
    "    public Car() : base()\n",
    "    {\n",
    "    }\n",
    "\n",
    "    public void Honk()\n",
    "    {\n",
    "        Console.WriteLine(\"Автомобиль издает звук сигнала клаксона\");\n",
    "    }\n",
    "\n",
    "    // Переопределение метода Move\n",
    "    public override void Move()\n",
    "    {\n",
    "        base.Move();\n",
    "        Console.WriteLine(\"Автомобиль движется со скоростью \" + Speed);\n",
    "    }\n",
    "}\n",
    "\n",
    "// Класс Motorcycle, реализующий интерфейс IMotorcycle и наследующий от Vehicle\n",
    "public class Motorcycle : Vehicle, IMotorcycle\n",
    "{\n",
    "    public Motorcycle() : base()\n",
    "    {\n",
    "    }\n",
    "\n",
    "    public void Wheelie()\n",
    "    {\n",
    "        Console.WriteLine(\"Мотоциклист выполняет трюк 'колесо'\");\n",
    "    }\n",
    "\n",
    "    // Переопределение метода Move\n",
    "    public override void Move()\n",
    "    {\n",
    "        base.Move();\n",
    "        Console.WriteLine(\"Мотоцикл движется со скоростью \" + Speed);\n",
    "    }\n",
    "}\n",
    "```\n",
    "\n",
    "### Объяснение кода\n",
    "\n",
    "- **Абстрактный класс `Vehicle`** служит базовым классом для всех транспортных средств. Он содержит общую логику и свойства, такие как скорость (`Speed`). Метод `Move()` является виртуальным, что позволяет его переопределять в производных классах.\n",
    "  \n",
    "- **Интерфейсы `ICar` и `IMotorcycle`** определяют специфические для каждого типа транспортного средства действия, которые могут быть выполнены этим типом транспортного средства.\n",
    "\n",
    "- **Классы `Car` и `Motorcycle`** реализуют соответствующие интерфейсы и наследуют от `Vehicle`, тем самым объединяя в себе общие и специфические характеристики транспортных средств.\n",
    "\n",
    "Этот подход позволяет достичь многого, что можно было бы сделать при прямом множественном наследовании, но с большей гибкостью и в соответствии с принципами объектно-ориентированного программирования в C#."
   ]
  },
  {
   "cell_type": "markdown",
   "metadata": {},
   "source": [
    "## Разница между абстракными классами и интерфейсами\n",
    "Абстрактные классы и интерфейсы в C# используются для определения контрактов и шаблонов поведения, но они имеют ключевые различия, которые влияют на их использование и возможности:\n",
    "\n",
    "### 1. Наследование vs. Реализация\n",
    "\n",
    "- **Абстрактные классы** могут быть наследованы другими классами. Это позволяет создавать иерархии классов, где подклассы наследуют свойства и методы от родительского абстрактного класса.\n",
    "- **Интерфейсы** должны быть реализованы классами. Класс может реализовать несколько интерфейсов, что позволяет использовать множественное наследование по контрактам.\n",
    "\n",
    "### 2. Членские переменные\n",
    "\n",
    "- **Абстрактные классы** могут содержать членские переменные (поля), включая приватные и защищенные. Это позволяет хранить состояние в абстрактном классе.\n",
    "- **Интерфейсы** не могут содержать членские переменные. Все члены интерфейса должны быть явно помечены как `abstract`, если они не реализованы.\n",
    "\n",
    "### 3. Реализация по умолчанию и операторы\n",
    "\n",
    "- **С C# 8.0 и выше**, интерфейсы могут содержать реализации по умолчанию для своих члена. Это позволяет предоставлять стандартную реализацию, которую классы могут использовать без необходимости повторной реализации.\n",
    "- Абстрактные классы также могут содержать реализации по умолчанию для своих методов, но это менее распространено, поскольку абстрактные классы обычно используются как основа для наследования.\n",
    "\n",
    "### 4. Приватные члены\n",
    "\n",
    "- **Абстрактные классы** могут иметь приватные члены, доступ к которым ограничен самим классом и его подклассами.\n",
    "- **Интерфейсы** не могут иметь приватных членов, так как они предназначены только для определения контракта, который должен быть реализован классами.\n",
    "\n",
    "### 5. Использование\n",
    "\n",
    "- **Абстрактные классы** часто используются для создания иерархий классов, где базовый класс определяет общую логику и свойства, а подклассы расширяют или модифицируют эту логику.\n",
    "- **Интерфейсы** идеально подходят для определения контрактов между классами, особенно когда необходимо обеспечить высокую степень независимости и гибкости в дизайне системы.\n",
    "\n",
    "### Заключение\n",
    "\n",
    "Выбор между абстрактным классом и интерфейсом зависит от конкретных требований проекта. Если вам нужна иерархия классов с общими свойствами и методами, используйте абстрактный класс. Если вы хотите определить контракты, которые могут быть реализованы несколькими классами, используйте интерфейсы."
   ]
  },
  {
   "cell_type": "markdown",
   "metadata": {},
   "source": [
    "<h4 style=\"color:DodgerBlue\">Для проверки напишите пример кода на основе классов Vehicle, Car и Motorcycle ниже в блоке:</h4>\n",
    "\n",
    "----"
   ]
  },
  {
   "cell_type": "code",
   "execution_count": null,
   "metadata": {
    "dotnet_interactive": {
     "language": "csharp"
    },
    "polyglot_notebook": {
     "kernelName": "csharp"
    }
   },
   "outputs": [],
   "source": []
  },
  {
   "cell_type": "markdown",
   "metadata": {},
   "source": [
    "<h4 style=\"color:Red\">Задание:</h4>\n",
    "\n",
    "----\n",
    "\n",
    "Ниже в блоке по примеру создайте базовый класс Animal и производные классы (3-4 например Dog, Cat, Bird и так далее) реализуйте структуру и объявление класса, включая свойства, геттеры и сеттеры, а также множественное наследование."
   ]
  },
  {
   "cell_type": "code",
   "execution_count": null,
   "metadata": {
    "dotnet_interactive": {
     "language": "csharp"
    },
    "polyglot_notebook": {
     "kernelName": "csharp"
    }
   },
   "outputs": [],
   "source": [
    "public abstract class Animal {\n",
    "  public int Energy {get; protected set;}\n",
    "\n",
    "  public Animal() {\n",
    "    Energy = 0;\n",
    "  }\n",
    "\n",
    "  public virtual void PrintInfo() {\n",
    "    Console.WriteLine(\"Animals are the reason we have YouTube compilations videos of cute things.\");\n",
    "  }\n",
    "\n",
    "  public virtual void PrintEnergyLevel() {\n",
    "    Console.WriteLine($\"Energy level: {Energy}.\");\n",
    "  }\n",
    "}\n",
    "\n",
    "public interface IStudent {\n",
    "  void DoHomework();\n",
    "  void SkipClasses();\n",
    "}\n",
    "\n",
    "public class Student : Animal, IStudent {\n",
    "  public override void PrintInfo() {\n",
    "    Console.WriteLine(\"A student is a walking caffeine intravenous drip, fueled by procrastination and deadlines\");\n",
    "  }\n",
    "\n",
    "  public Student() : base() {}\n",
    "\n",
    "  public void DoHomework() {\n",
    "    Energy -= 10;\n",
    "    Energy %= 100;\n",
    "  }\n",
    "\n",
    "  public void SkipClasses() {\n",
    "    Energy += 10;\n",
    "    Energy %= 100;\n",
    "  }\n",
    "}\n",
    "\n",
    "public interface ILearnProgramming {\n",
    "  public void PrintDebaggingMantra() {}\n",
    "  public void SubmitHomework() {}\n",
    "}\n",
    "\n",
    "public class ProgrammerStudent : Student, ILearnProgramming{\n",
    "  public ProgrammerStudent() : base() {}\n",
    "\n",
    "  public void PrintDebaggingMantra() {\n",
    "    Console.WriteLine(\"It's working on my machine...\");\n",
    "  }\n",
    "\n",
    "  public void SubmitHomework() {\n",
    "    Console.WriteLine(\"My keyboard was possessed by a demon.\");\n",
    "  }\n",
    "\n",
    "  public override void PrintInfo() {\n",
    "    Console.WriteLine(\"A programmer student is a walking, talking encyclopedia of obscure coding errors and their solutions mostly found on Stack Overflow.\");\n",
    "  }\n",
    "}"
   ]
  },
  {
   "cell_type": "code",
   "execution_count": null,
   "metadata": {
    "dotnet_interactive": {
     "language": "csharp"
    },
    "polyglot_notebook": {
     "kernelName": "csharp"
    }
   },
   "outputs": [
    {
     "data": {
      "text/html": [
       "<details open=\"open\" class=\"dni-treeview\"><summary><span class=\"dni-code-hint\"><code>Submission#2+Student</code></span></summary><div><table><thead><tr></tr></thead><tbody><tr><td>Energy</td><td><div class=\"dni-plaintext\"><pre>0</pre></div></td></tr></tbody></table></div></details><style>\r\n",
       ".dni-code-hint {\r\n",
       "    font-style: italic;\r\n",
       "    overflow: hidden;\r\n",
       "    white-space: nowrap;\r\n",
       "}\r\n",
       ".dni-treeview {\r\n",
       "    white-space: nowrap;\r\n",
       "}\r\n",
       ".dni-treeview td {\r\n",
       "    vertical-align: top;\r\n",
       "    text-align: start;\r\n",
       "}\r\n",
       "details.dni-treeview {\r\n",
       "    padding-left: 1em;\r\n",
       "}\r\n",
       "table td {\r\n",
       "    text-align: start;\r\n",
       "}\r\n",
       "table tr { \r\n",
       "    vertical-align: top; \r\n",
       "    margin: 0em 0px;\r\n",
       "}\r\n",
       "table tr td pre \r\n",
       "{ \r\n",
       "    vertical-align: top !important; \r\n",
       "    margin: 0em 0px !important;\r\n",
       "} \r\n",
       "table th {\r\n",
       "    text-align: start;\r\n",
       "}\r\n",
       "</style>"
      ]
     },
     "metadata": {},
     "output_type": "display_data"
    }
   ],
   "source": [
    "// test\n",
    "Student someStudent = new Student();\n",
    "someStudent.Display();"
   ]
  },
  {
   "cell_type": "code",
   "execution_count": null,
   "metadata": {
    "dotnet_interactive": {
     "language": "csharp"
    },
    "polyglot_notebook": {
     "kernelName": "csharp"
    }
   },
   "outputs": [
    {
     "name": "stdout",
     "output_type": "stream",
     "text": [
      "A student is a walking caffeine intravenous drip, fueled by procrastination and deadlines\n",
      "Energy level: -10.\n",
      "Energy level: 0.\n",
      "Energy level: 10.\n"
     ]
    }
   ],
   "source": [
    "someStudent.PrintInfo();\n",
    "someStudent.DoHomework();\n",
    "someStudent.PrintEnergyLevel();\n",
    "someStudent.SkipClasses();\n",
    "someStudent.PrintEnergyLevel();\n",
    "someStudent.SkipClasses();\n",
    "someStudent.PrintEnergyLevel();"
   ]
  },
  {
   "cell_type": "code",
   "execution_count": null,
   "metadata": {
    "dotnet_interactive": {
     "language": "csharp"
    },
    "polyglot_notebook": {
     "kernelName": "csharp"
    }
   },
   "outputs": [
    {
     "data": {
      "text/html": [
       "<details open=\"open\" class=\"dni-treeview\"><summary><span class=\"dni-code-hint\"><code>Submission#2+ProgrammerStudent</code></span></summary><div><table><thead><tr></tr></thead><tbody><tr><td>Energy</td><td><div class=\"dni-plaintext\"><pre>0</pre></div></td></tr></tbody></table></div></details><style>\r\n",
       ".dni-code-hint {\r\n",
       "    font-style: italic;\r\n",
       "    overflow: hidden;\r\n",
       "    white-space: nowrap;\r\n",
       "}\r\n",
       ".dni-treeview {\r\n",
       "    white-space: nowrap;\r\n",
       "}\r\n",
       ".dni-treeview td {\r\n",
       "    vertical-align: top;\r\n",
       "    text-align: start;\r\n",
       "}\r\n",
       "details.dni-treeview {\r\n",
       "    padding-left: 1em;\r\n",
       "}\r\n",
       "table td {\r\n",
       "    text-align: start;\r\n",
       "}\r\n",
       "table tr { \r\n",
       "    vertical-align: top; \r\n",
       "    margin: 0em 0px;\r\n",
       "}\r\n",
       "table tr td pre \r\n",
       "{ \r\n",
       "    vertical-align: top !important; \r\n",
       "    margin: 0em 0px !important;\r\n",
       "} \r\n",
       "table th {\r\n",
       "    text-align: start;\r\n",
       "}\r\n",
       "</style>"
      ]
     },
     "metadata": {},
     "output_type": "display_data"
    }
   ],
   "source": [
    "ProgrammerStudent programmerStudent = new ProgrammerStudent();\n",
    "programmerStudent.Display();"
   ]
  },
  {
   "cell_type": "code",
   "execution_count": null,
   "metadata": {
    "dotnet_interactive": {
     "language": "csharp"
    },
    "polyglot_notebook": {
     "kernelName": "csharp"
    }
   },
   "outputs": [
    {
     "name": "stdout",
     "output_type": "stream",
     "text": [
      "A programmer student is a walking, talking encyclopedia of obscure coding errors and their solutions mostly found on Stack Overflow.\n",
      "It's working on my machine...\n",
      "My keyboard was possessed by a demon.\n",
      "Energy level: 10.\n"
     ]
    }
   ],
   "source": [
    "programmerStudent.PrintInfo();\n",
    "programmerStudent.DoHomework();\n",
    "programmerStudent.SkipClasses();\n",
    "programmerStudent.SkipClasses();\n",
    "programmerStudent.PrintDebaggingMantra();\n",
    "programmerStudent.SubmitHomework();\n",
    "programmerStudent.PrintEnergyLevel();"
   ]
  },
  {
   "cell_type": "code",
   "execution_count": null,
   "metadata": {
    "dotnet_interactive": {
     "language": "csharp"
    },
    "polyglot_notebook": {
     "kernelName": "csharp"
    }
   },
   "outputs": [],
   "source": []
  },
  {
   "cell_type": "code",
   "execution_count": null,
   "metadata": {
    "dotnet_interactive": {
     "language": "csharp"
    },
    "polyglot_notebook": {
     "kernelName": "csharp"
    }
   },
   "outputs": [],
   "source": []
  }
 ],
 "metadata": {
  "kernelspec": {
   "display_name": ".NET (C#)",
   "language": "C#",
   "name": ".net-csharp"
  },
  "polyglot_notebook": {
   "kernelInfo": {
    "defaultKernelName": "csharp",
    "items": [
     {
      "aliases": [],
      "languageName": "csharp",
      "name": "csharp"
     }
    ]
   }
  }
 },
 "nbformat": 4,
 "nbformat_minor": 2
}
