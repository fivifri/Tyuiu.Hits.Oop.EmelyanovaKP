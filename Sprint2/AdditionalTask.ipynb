{
 "cells": [
  {
   "cell_type": "code",
   "execution_count": 1,
   "metadata": {
    "dotnet_interactive": {
     "language": "csharp"
    },
    "polyglot_notebook": {
     "kernelName": "csharp"
    },
    "vscode": {
     "languageId": "polyglot-notebook"
    }
   },
   "outputs": [],
   "source": [
    "public interface IProgram{\n",
    "  public void Run();\n",
    "}\n",
    "\n",
    "public abstract class Program {\n",
    "  public abstract void Run(string programName);\n",
    "}\n",
    "\n",
    "public class MicrosoftOffice : Program, IProgram {\n",
    "  public void Run() {\n",
    "    Console.WriteLine(\"The program is running...\");\n",
    "  }\n",
    "\n",
    "  public override void Run(string programName) {\n",
    "    Console.WriteLine($\"The program {programName} is running\");\n",
    "  }\n",
    "}"
   ]
  },
  {
   "cell_type": "code",
   "execution_count": 3,
   "metadata": {
    "vscode": {
     "languageId": "polyglot-notebook"
    }
   },
   "outputs": [
    {
     "name": "stdout",
     "output_type": "stream",
     "text": [
      "The program is running...\n",
      "The program Word is running\n"
     ]
    }
   ],
   "source": [
    "MicrosoftOffice testProgram = new MicrosoftOffice();\n",
    "testProgram.Run();\n",
    "testProgram.Run(\"Word\");"
   ]
  },
  {
   "cell_type": "code",
   "execution_count": null,
   "metadata": {
    "vscode": {
     "languageId": "polyglot-notebook"
    }
   },
   "outputs": [],
   "source": []
  }
 ],
 "metadata": {
  "kernelspec": {
   "display_name": ".NET (C#)",
   "language": "C#",
   "name": ".net-csharp"
  },
  "language_info": {
   "name": "python"
  },
  "polyglot_notebook": {
   "kernelInfo": {
    "defaultKernelName": "csharp",
    "items": [
     {
      "aliases": [],
      "name": "csharp"
     }
    ]
   }
  }
 },
 "nbformat": 4,
 "nbformat_minor": 2
}
